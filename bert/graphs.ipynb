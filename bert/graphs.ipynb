{
 "cells": [
  {
   "cell_type": "code",
   "execution_count": 1,
   "metadata": {},
   "outputs": [],
   "source": [
    "import matplotlib.pyplot as plt"
   ]
  },
  {
   "cell_type": "code",
   "execution_count": null,
   "metadata": {},
   "outputs": [],
   "source": [
    "epochs_range = range(7)\n",
    "eval_losses_1 = [1.2568, 0.8163, 0.7167, 0.7167, 0.7167, 0.7167, 0.7167]\n",
    "eval_losses_2 = [0.3514, 0.4226, 0.5346, 0.3446, 0.2946, 0.2854, 0.2833]\n",
    "eval_losses_3 = [0.4459, 0.4470, 0.1921, 0.0271, 0.0020, 0.0035, 0.0011]\n",
    "eval_accuracies_1 = [0.6333, 0.5333, 0.5333, 0.5333, 0.5333, 0.5333, 0.5333]\n",
    "eval_accuracies_2 = [0.9333, 0.9333, 0.9000, 0.9333, 0.9666, 0.9666, 0.9666]\n",
    "eval_accuracies_3 = [0.8500, 0.8500, 0.9000, 1.0000, 1.0000, 1.0000, 1.0000]"
   ]
  },
  {
   "cell_type": "code",
   "execution_count": null,
   "metadata": {},
   "outputs": [],
   "source": [
    "plt.figure(figsize=(12, 6))\n",
    "\n",
    "plt.subplot(1, 2, 1)\n",
    "plt.plot(epochs_range, eval_losses_1, label=\"Previous Try\")\n",
    "plt.plot(epochs_range, eval_losses_2, label=\"Trial #1\")\n",
    "plt.xlabel(\"Epoch\")\n",
    "plt.ylabel(\"Loss\")\n",
    "plt.title(\"Evaluation Loss\")\n",
    "plt.legend()\n",
    "\n",
    "# Plot validation accuracy\n",
    "plt.subplot(1, 2, 2)\n",
    "plt.plot(epochs_range, eval_accuracies_1, label=\"Previous Try\")\n",
    "plt.plot(epochs_range, eval_accuracies_2, label=\"Trial #1\")\n",
    "plt.xlabel(\"Epoch\")\n",
    "plt.ylabel(\"Accuracy\")\n",
    "plt.title(\"Evaluation Accuracy\")\n",
    "plt.legend()\n",
    "\n",
    "plt.show()\n"
   ]
  }
 ],
 "metadata": {
  "kernelspec": {
   "display_name": "Python 3",
   "language": "python",
   "name": "python3"
  },
  "language_info": {
   "codemirror_mode": {
    "name": "ipython",
    "version": 3
   },
   "file_extension": ".py",
   "mimetype": "text/x-python",
   "name": "python",
   "nbconvert_exporter": "python",
   "pygments_lexer": "ipython3",
   "version": "3.10.11"
  }
 },
 "nbformat": 4,
 "nbformat_minor": 2
}
